{
 "cells": [
  {
   "cell_type": "markdown",
   "id": "20c3816e",
   "metadata": {},
   "source": [
    "### Data Source: \n",
    "\n",
    "#### Query\n",
    "Web of Science Query = (\n",
    "\n",
    "  TS=(biodivers* OR \"biological diversity\" OR \"bio-divers*\" OR \"bio divers*\")\n",
    "\n",
    "  OR SU=\"Biodiversity & Conservation\"\n",
    "\n",
    ")\n",
    "\n",
    "AND DT=(Article OR Review)\n",
    "\n",
    "AND PY=(1980-2025)\n",
    "\n",
    "#### Query Notes\n",
    "- Period: Starting 1980s since this is period biodiversity as field emerged\n",
    "\n",
    "- SU = Research Area in WOS: https://webofscience.help.clarivate.com/Content/current-contents/ccc-search-field-tags.htm\n",
    "\n",
    "In WOS research areas (total 5), Life Science & Biomedicine (1/5) contains only this tag for biodiversity: \"Biodiversity & Conservation\"\n",
    "\n",
    "- TS = Topic Search = [Title, Abstract, Author Keywords, Keywords Plus]\n",
    "\n",
    "Topic search query is kept general here and adopted from 2016 bibliometric assessment here: (See page 2)\n",
    "https://www.scirp.org/pdf/OJE_2014052617163441.pdf#page=12.10\n",
    "\n",
    "\n",
    "\n",
    "\n",
    "#### Notes \n",
    "\n",
    "- WOS Results returned = 359,435 records\n",
    "\n",
    "- Time of most recent query: 10 Jul 2025 311pm - 11pm \n",
    "\n",
    "- Internal note: Version 2 of query\n"
   ]
  },
  {
   "cell_type": "code",
   "execution_count": 2,
   "id": "daae23ee",
   "metadata": {},
   "outputs": [],
   "source": [
    "import pandas as pd\n",
    "import matplotlib.pyplot as plt\n",
    "import seaborn as sns"
   ]
  },
  {
   "cell_type": "markdown",
   "id": "e64c55c9",
   "metadata": {},
   "source": [
    "### 1. Dataframes"
   ]
  },
  {
   "cell_type": "code",
   "execution_count": 1,
   "id": "bf9d2d09",
   "metadata": {},
   "outputs": [
    {
     "ename": "NameError",
     "evalue": "name 'pd' is not defined",
     "output_type": "error",
     "traceback": [
      "\u001b[31m---------------------------------------------------------------------------\u001b[39m",
      "\u001b[31mNameError\u001b[39m                                 Traceback (most recent call last)",
      "\u001b[36mCell\u001b[39m\u001b[36m \u001b[39m\u001b[32mIn[1]\u001b[39m\u001b[32m, line 1\u001b[39m\n\u001b[32m----> \u001b[39m\u001b[32m1\u001b[39m df = \u001b[43mpd\u001b[49m.read_excel(\u001b[33m\"\u001b[39m\u001b[33mdataset/curated_data/data.xlsx\u001b[39m\u001b[33m\"\u001b[39m)\n\u001b[32m      2\u001b[39m df_sample = df.sample(n=\u001b[32m1000\u001b[39m, random_state=\u001b[32m42\u001b[39m)\n\u001b[32m      3\u001b[39m df_sample.to_csv(\u001b[33m\"\u001b[39m\u001b[33mdataset/curated_data/sample_data.csv\u001b[39m\u001b[33m\"\u001b[39m, index=\u001b[38;5;28;01mFalse\u001b[39;00m)\n",
      "\u001b[31mNameError\u001b[39m: name 'pd' is not defined"
     ]
    }
   ],
   "source": [
    "df = pd.read_excel(\"dataset/curated_data/data.xlsx\")\n",
    "df_sample = df.sample(n=1000, random_state=42)\n",
    "df_sample.to_csv(\"dataset/curated_data/sample_data.csv\", index=False)\n",
    "core_cols = [\n",
    "    \"Publication Type\", \"Article Title\", \"Language\", \"Document Type\",\n",
    "    \"Author Keywords\", \"Keywords Plus\", \"Abstract\", \n",
    "    \"Publisher\", \"Publisher City\", \"Publication Date\", \"Publication Year\", \n",
    "    \"Web of Science Index\", \"WoS Categories\", \"Research Areas\", \n",
    "    \"Highly Cited Status\", \"Hot Paper Status\", \"UT (Unique WOS ID)\"\n",
    "]\n"
   ]
  },
  {
   "cell_type": "code",
   "execution_count": null,
   "id": "4cd3842e",
   "metadata": {},
   "outputs": [],
   "source": [
    "df_core = df[core_cols].copy()"
   ]
  },
  {
   "cell_type": "markdown",
   "id": "f002b14d",
   "metadata": {},
   "source": [
    "### 2. Overall Summary"
   ]
  },
  {
   "cell_type": "code",
   "execution_count": null,
   "id": "b001d4ba",
   "metadata": {},
   "outputs": [],
   "source": [
    "cols = df.columns\n",
    "\n",
    "# Count summary\n",
    "    # Row counts\n",
    "count_summary = {\n",
    "    \"row_count\": len(df_core),\n",
    "    \"web_of_science_record_count\": df_core[\"UT (Unique WOS ID)\"].count(),\n",
    "    \"web_of_science_record_distinct_count\": df_core[\"UT (Unique WOS ID)\"].nunique(),\n",
    "    \"duplicated_row_count\": df_core.duplicated().sum()\n",
    "}\n",
    "    # Nulls\n",
    "null_counts = df_core.isnull().sum()\n",
    "null_cols = null_counts[null_counts > 0].sort_values(ascending=False)"
   ]
  },
  {
   "cell_type": "markdown",
   "id": "3c99f79b",
   "metadata": {},
   "source": [
    "#### - Shape & Core Cols\n",
    "\n",
    "- Core cols are subset of cols useful for analysis \n",
    "- Overall Counts:\n",
    "    - Source Data Count = 359,435\n",
    "    - Duplicates = 502\n",
    "    - Count after dropping duplicates = 358,933"
   ]
  },
  {
   "cell_type": "code",
   "execution_count": null,
   "id": "b909fb0a",
   "metadata": {},
   "outputs": [],
   "source": [
    "print(f\"Dataset shape: {df_core.shape}\")\n",
    "print(f\"{len(core_cols)} Core Cols out of {len(cols)} total cols in the dataset:\")\n",
    "print(core_cols)\n",
    "print(f\" Count Summary : {count_summary}\")\n",
    "\n"
   ]
  },
  {
   "cell_type": "code",
   "execution_count": null,
   "id": "585bf037",
   "metadata": {},
   "outputs": [],
   "source": [
    "df_core = df_core.drop_duplicates()\n",
    "print(f\"Dropped {count_summary['row_count'] - len(df_core)} duplicated rows. Remaining rows: {len(df_core)}\")"
   ]
  },
  {
   "cell_type": "markdown",
   "id": "f55b7190",
   "metadata": {},
   "source": [
    "#### - Nulls\n",
    "- ~16k records contains no abstract. There are dropped from df_core\n",
    "- Original Row count = 359,435; New Row count: 342,484"
   ]
  },
  {
   "cell_type": "code",
   "execution_count": null,
   "id": "c2d50178",
   "metadata": {},
   "outputs": [],
   "source": [
    "print(f\" {len(null_cols)} Columns with null values:   {null_cols}\" )"
   ]
  },
  {
   "cell_type": "code",
   "execution_count": null,
   "id": "55841992",
   "metadata": {},
   "outputs": [],
   "source": [
    "before_count = len(df_core)\n",
    "df_core = df_core.dropna(subset=[\"Abstract\"])\n",
    "after_count = len(df_core)\n",
    "print(f\"Dropped {before_count - after_count} rows. Remaining rows: {after_count}\")"
   ]
  },
  {
   "cell_type": "markdown",
   "id": "d2b119a4",
   "metadata": {},
   "source": [
    "#### - Distinct Value Counts\n",
    "- Nulls: Expected to have nulls in \"Highly Cited\"  and \"Hot Paper\" since it's \"Y or N\" only when applicable. Else null.\n",
    "- Keywords are not always given (Keyword plus , author keyword) - ~15-20% rows\n",
    "- Basic details like title, abstract, categories, researach area have no or 1,2 nulls only"
   ]
  },
  {
   "cell_type": "code",
   "execution_count": null,
   "id": "6b515363",
   "metadata": {},
   "outputs": [],
   "source": [
    "distinct_counts = df_core.nunique(dropna=True).sort_values(ascending=False)\n",
    "null_counts = df_core.isnull().sum()\n",
    "summary = pd.DataFrame({'distinct': distinct_counts, 'nulls': null_counts[distinct_counts.index]})\n",
    "print(summary)"
   ]
  },
  {
   "cell_type": "markdown",
   "id": "4020ce1a",
   "metadata": {},
   "source": [
    "#### - Language\n",
    "- ~97.7% of publications are in \"English\""
   ]
  },
  {
   "cell_type": "code",
   "execution_count": null,
   "id": "3a1c481e",
   "metadata": {},
   "outputs": [],
   "source": [
    "lang_counts = df_core['Language'].value_counts(dropna=False)\n",
    "lang_percent = df_core['Language'].value_counts(normalize=True, dropna=False) * 100\n",
    "lang_summary = pd.DataFrame({'count': lang_counts, 'percent': lang_percent.round(2)})\n",
    "print(lang_summary)"
   ]
  },
  {
   "cell_type": "markdown",
   "id": "df9bdb7f",
   "metadata": {},
   "source": [
    "### S2"
   ]
  },
  {
   "cell_type": "code",
   "execution_count": null,
   "id": "ed3f31e3",
   "metadata": {},
   "outputs": [],
   "source": [
    "year_counts = df_core['Publication Year'].value_counts().sort_index()\n",
    "plt.figure(figsize=(12,6))\n",
    "plt.bar(year_counts.index, year_counts.values / 1000)\n",
    "plt.xlabel('Publication Year')\n",
    "plt.ylabel('Count of Records (Thousands)')\n",
    "plt.title('Publication count by year of publication')\n",
    "plt.xticks(year_counts.index, rotation=90)\n",
    "plt.tight_layout()\n",
    "plt.show()"
   ]
  },
  {
   "cell_type": "code",
   "execution_count": null,
   "id": "6c48edbf",
   "metadata": {
    "vscode": {
     "languageId": "ruby"
    }
   },
   "outputs": [],
   "source": [
    "top_research_areas = df_core['Research Areas'].value_counts().head(15)\n",
    "\n",
    "plt.figure(figsize=(12, 6))\n",
    "plt.barh(top_research_areas.index[::-1], top_research_areas.values[::-1]/ 1000)  # reverse for top-to-bottom\n",
    "plt.title(\"Top 15 Research Areas by Number of Publications\")\n",
    "plt.xlabel('Count of Records (Thousands)')\n",
    "plt.ylabel(\"Research Area\")\n",
    "plt.tight_layout()\n",
    "plt.show()"
   ]
  },
  {
   "cell_type": "code",
   "execution_count": 3,
   "id": "b290d09c",
   "metadata": {
    "vscode": {
     "languageId": "ruby"
    }
   },
   "outputs": [],
   "source": [
    "import pandas"
   ]
  },
  {
   "cell_type": "code",
   "execution_count": 5,
   "id": "966e5c0e",
   "metadata": {
    "vscode": {
     "languageId": "ruby"
    }
   },
   "outputs": [
    {
     "ename": "ModuleNotFoundError",
     "evalue": "No module named 'matplotlib_venn'",
     "output_type": "error",
     "traceback": [
      "\u001b[31m---------------------------------------------------------------------------\u001b[39m",
      "\u001b[31mModuleNotFoundError\u001b[39m                       Traceback (most recent call last)",
      "\u001b[36mCell\u001b[39m\u001b[36m \u001b[39m\u001b[32mIn[5]\u001b[39m\u001b[32m, line 1\u001b[39m\n\u001b[32m----> \u001b[39m\u001b[32m1\u001b[39m \u001b[38;5;28;01mfrom\u001b[39;00m\u001b[38;5;250m \u001b[39m\u001b[34;01mmatplotlib_venn\u001b[39;00m\u001b[38;5;250m \u001b[39m\u001b[38;5;28;01mimport\u001b[39;00m venn3\n",
      "\u001b[31mModuleNotFoundError\u001b[39m: No module named 'matplotlib_venn'"
     ]
    }
   ],
   "source": [
    "from matplotlib_venn import venn3"
   ]
  },
  {
   "cell_type": "code",
   "execution_count": null,
   "id": "28bbba59",
   "metadata": {},
   "outputs": [],
   "source": [
    "\n",
    "# from matplotlib_venn import venn3\n",
    "\n",
    "\n",
    "# # Load the data\n",
    "# df = pd.read_csv(\"sample_data.csv\")\n",
    "\n",
    "# # Prepare the Research Areas column\n",
    "# research_series = df['Research Areas'].dropna()\n",
    "# split_research_areas = research_series.str.split(';').apply(lambda x: [i.strip() for i in x])\n",
    "\n",
    "# # Create binary indicator matrix\n",
    "# mlb = MultiLabelBinarizer()\n",
    "# indicator_matrix = pd.DataFrame(mlb.fit_transform(split_research_areas),\n",
    "#                                 columns=mlb.classes_,\n",
    "#                                 index=split_research_areas.index)\n",
    "\n",
    "# # Get top 3 research areas\n",
    "# top_3_areas = indicator_matrix.sum().sort_values(ascending=False).head(3).index.tolist()\n",
    "\n",
    "# # Create sets for each area\n",
    "# set1 = set(indicator_matrix[indicator_matrix[top_3_areas[0]] == 1].index)\n",
    "# set2 = set(indicator_matrix[indicator_matrix[top_3_areas[1]] == 1].index)\n",
    "# set3 = set(indicator_matrix[indicator_matrix[top_3_areas[2]] == 1].index)\n",
    "\n",
    "# # Plot Venn Diagram\n",
    "# plt.figure(figsize=(8, 6))\n",
    "# venn3([set1, set2, set3], set_labels=top_3_areas)\n",
    "# plt.title(\"Overlap of Top 3 Research Areas\")\n",
    "# plt.show()"
   ]
  }
 ],
 "metadata": {
  "kernelspec": {
   "display_name": "venv",
   "language": "python",
   "name": "python3"
  },
  "language_info": {
   "codemirror_mode": {
    "name": "ipython",
    "version": 3
   },
   "file_extension": ".py",
   "mimetype": "text/x-python",
   "name": "python",
   "nbconvert_exporter": "python",
   "pygments_lexer": "ipython3",
   "version": "3.13.3"
  }
 },
 "nbformat": 4,
 "nbformat_minor": 5
}
