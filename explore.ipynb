{
 "cells": [
  {
   "cell_type": "code",
   "execution_count": 1,
   "id": "daae23ee",
   "metadata": {},
   "outputs": [],
   "source": [
    "import pandas as pd\n",
    "import numpy as np"
   ]
  },
  {
   "cell_type": "code",
   "execution_count": null,
   "id": "bf9d2d09",
   "metadata": {},
   "outputs": [],
   "source": [
    "df = pd.read_excel(\"dataset/curated_data/data.xlsx\")"
   ]
  },
  {
   "cell_type": "code",
   "execution_count": null,
   "id": "c1c5e98a",
   "metadata": {},
   "outputs": [
    {
     "name": "stdout",
     "output_type": "stream",
     "text": [
      "<class 'pandas.core.frame.DataFrame'>\n",
      "RangeIndex: 359435 entries, 0 to 359434\n",
      "Data columns (total 72 columns):\n",
      " #   Column                      Non-Null Count   Dtype  \n",
      "---  ------                      --------------   -----  \n",
      " 0   Publication Type            359435 non-null  object \n",
      " 1   Authors                     359311 non-null  object \n",
      " 2   Book Authors                2907 non-null    object \n",
      " 3   Book Editors                9325 non-null    object \n",
      " 4   Book Group Authors          130 non-null     object \n",
      " 5   Author Full Names           359311 non-null  object \n",
      " 6   Book Author Full Names      2907 non-null    object \n",
      " 7   Group Authors               327 non-null     object \n",
      " 8   Article Title               359435 non-null  object \n",
      " 9   Source Title                359435 non-null  object \n",
      " 10  Book Series Title           6421 non-null    object \n",
      " 11  Book Series Subtitle        58 non-null      object \n",
      " 12  Language                    359435 non-null  object \n",
      " 13  Document Type               359435 non-null  object \n",
      " 14  Conference Title            5387 non-null    object \n",
      " 15  Conference Date             5387 non-null    object \n",
      " 16  Conference Location         5387 non-null    object \n",
      " 17  Conference Sponsor          2638 non-null    object \n",
      " 18  Conference Host             1327 non-null    object \n",
      " 19  Author Keywords             292209 non-null  object \n",
      " 20  Keywords Plus               314748 non-null  object \n",
      " 21  Abstract                    342954 non-null  object \n",
      " 22  Addresses                   344274 non-null  object \n",
      " 23  Affiliations                329182 non-null  object \n",
      " 24  Reprint Addresses           350221 non-null  object \n",
      " 25  Email Addresses             315233 non-null  object \n",
      " 26  Researcher Ids              257222 non-null  object \n",
      " 27  ORCIDs                      246039 non-null  object \n",
      " 28  Funding Orgs                221142 non-null  object \n",
      " 29  Funding Name Preferred      220688 non-null  object \n",
      " 30  Funding Text                219795 non-null  object \n",
      " 31  Cited References            0 non-null       float64\n",
      " 32  Cited Reference Count       359435 non-null  int64  \n",
      " 33  Times Cited, WoS Core       359435 non-null  int64  \n",
      " 34  Times Cited, All Databases  359435 non-null  int64  \n",
      " 35  180 Day Usage Count         359435 non-null  int64  \n",
      " 36  Since 2013 Usage Count      359435 non-null  int64  \n",
      " 37  Publisher                   359435 non-null  object \n",
      " 38  Publisher City              359435 non-null  object \n",
      " 39  Publisher Address           359435 non-null  object \n",
      " 40  ISSN                        315205 non-null  object \n",
      " 41  eISSN                       263545 non-null  object \n",
      " 42  ISBN                        12131 non-null   object \n",
      " 43  Journal Abbreviation        353537 non-null  object \n",
      " 44  Journal ISO Abbreviation    348868 non-null  object \n",
      " 45  Publication Date            309150 non-null  object \n",
      " 46  Publication Year            359435 non-null  int64  \n",
      " 47  Volume                      342010 non-null  object \n",
      " 48  Issue                       266441 non-null  object \n",
      " 49  Part Number                 2905 non-null    object \n",
      " 50  Supplement                  2522 non-null    object \n",
      " 51  Special Issue               11371 non-null   object \n",
      " 52  Meeting Abstract            0 non-null       float64\n",
      " 53  Start Page                  255527 non-null  object \n",
      " 54  End Page                    255527 non-null  object \n",
      " 55  Article Number              98724 non-null   object \n",
      " 56  DOI                         324762 non-null  object \n",
      " 57  DOI Link                    324762 non-null  float64\n",
      " 58  Book DOI                    7284 non-null    object \n",
      " 59  Early Access Date           64048 non-null   object \n",
      " 60  Number of Pages             359435 non-null  int64  \n",
      " 61  WoS Categories              359427 non-null  object \n",
      " 62  Web of Science Index        359435 non-null  object \n",
      " 63  Research Areas              359427 non-null  object \n",
      " 64  IDS Number                  359435 non-null  object \n",
      " 65  Pubmed Id                   77021 non-null   float64\n",
      " 66  Open Access Designations    161098 non-null  object \n",
      " 67  Highly Cited Status         2186 non-null    object \n",
      " 68  Hot Paper Status            2186 non-null    object \n",
      " 69  Date of Export              359435 non-null  object \n",
      " 70  UT (Unique WOS ID)          359435 non-null  object \n",
      " 71  Web of Science Record       359435 non-null  int64  \n",
      "dtypes: float64(4), int64(8), object(60)\n",
      "memory usage: 197.4+ MB\n"
     ]
    }
   ],
   "source": [
    "df.columns"
   ]
  },
  {
   "cell_type": "code",
   "execution_count": null,
   "id": "62ce664f",
   "metadata": {},
   "outputs": [],
   "source": []
  },
  {
   "cell_type": "code",
   "execution_count": null,
   "id": "28bbba59",
   "metadata": {},
   "outputs": [],
   "source": []
  }
 ],
 "metadata": {
  "kernelspec": {
   "display_name": "venv",
   "language": "python",
   "name": "python3"
  },
  "language_info": {
   "codemirror_mode": {
    "name": "ipython",
    "version": 3
   },
   "file_extension": ".py",
   "mimetype": "text/x-python",
   "name": "python",
   "nbconvert_exporter": "python",
   "pygments_lexer": "ipython3",
   "version": "3.13.3"
  }
 },
 "nbformat": 4,
 "nbformat_minor": 5
}
