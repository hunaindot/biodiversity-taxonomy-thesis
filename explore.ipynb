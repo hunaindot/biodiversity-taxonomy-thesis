{
 "cells": [
  {
   "cell_type": "markdown",
   "id": "20c3816e",
   "metadata": {},
   "source": [
    "### Data Source: \n",
    "\n",
    "#### Query\n",
    "Web of Science Query = (\n",
    "\n",
    "  TS=(biodivers* OR \"biological diversity\" OR \"bio-divers*\" OR \"bio divers*\")\n",
    "\n",
    "  OR SU=\"Biodiversity & Conservation\"\n",
    "\n",
    ")\n",
    "\n",
    "AND DT=(Article OR Review)\n",
    "\n",
    "AND PY=(1980-2025)\n",
    "\n",
    "#### Query Notes\n",
    "- Period: Starting 1980s since this is period biodiversity as field emerged\n",
    "\n",
    "- SU = Research Area in WOS: https://webofscience.help.clarivate.com/Content/current-contents/ccc-search-field-tags.htm\n",
    "\n",
    "In WOS research areas (total 5), Life Science & Biomedicine (1/5) contains only this tag for biodiversity: \"Biodiversity & Conservation\"\n",
    "\n",
    "- TS = Topic Search = [Title, Abstract, Author Keywords, Keywords Plus]\n",
    "\n",
    "Topic search query is kept general here and adopted from 2016 bibliometric assessment here: (See page 2)\n",
    "https://www.scirp.org/pdf/OJE_2014052617163441.pdf#page=12.10\n",
    "\n",
    "\n",
    "\n",
    "\n",
    "#### Notes \n",
    "\n",
    "- WOS Results returned = 359,435 records\n",
    "\n",
    "- Time of most recent query: 10 Jul 2025 311pm - 11pm \n",
    "\n",
    "- Internal note: Version 2 of query\n"
   ]
  },
  {
   "cell_type": "code",
   "execution_count": 87,
   "id": "daae23ee",
   "metadata": {},
   "outputs": [],
   "source": [
    "import pandas as pd\n",
    "import matplotlib.pyplot as plt\n",
    "import seaborn as sns"
   ]
  },
  {
   "cell_type": "markdown",
   "id": "e64c55c9",
   "metadata": {},
   "source": [
    "### 1. Dataframes"
   ]
  },
  {
   "cell_type": "code",
   "execution_count": null,
   "id": "bf9d2d09",
   "metadata": {},
   "outputs": [],
   "source": [
    "df = pd.read_excel(\"dataset/curated_data/data.xlsx\")\n",
    "df_sample = df.sample(n=1000, random_state=42)\n",
    "df_sample.to_csv(\"dataset/curated_data/sample_data.csv\", index=False)\n",
    "core_cols = [\n",
    "    \"Publication Type\", \"Article Title\", \"Language\", \"Document Type\",\n",
    "    \"Author Keywords\", \"Keywords Plus\", \"Abstract\", \n",
    "    \"Publisher\", \"Publisher City\", \"Publication Date\", \"Publication Year\", \n",
    "    \"Web of Science Index\", \"WoS Categories\", \"Research Areas\", \n",
    "    \"Highly Cited Status\", \"Hot Paper Status\", \"UT (Unique WOS ID)\"\n",
    "]\n"
   ]
  },
  {
   "cell_type": "code",
   "execution_count": 67,
   "id": "4cd3842e",
   "metadata": {},
   "outputs": [],
   "source": [
    "df_core = df[core_cols].copy()"
   ]
  },
  {
   "cell_type": "markdown",
   "id": "f002b14d",
   "metadata": {},
   "source": [
    "### 2. Overall Summary"
   ]
  },
  {
   "cell_type": "code",
   "execution_count": 68,
   "id": "b001d4ba",
   "metadata": {},
   "outputs": [],
   "source": [
    "cols = df.columns\n",
    "\n",
    "# Count summary\n",
    "    # Row counts\n",
    "count_summary = {\n",
    "    \"row_count\": len(df_core),\n",
    "    \"web_of_science_record_count\": df_core[\"UT (Unique WOS ID)\"].count(),\n",
    "    \"web_of_science_record_distinct_count\": df_core[\"UT (Unique WOS ID)\"].nunique(),\n",
    "    \"duplicated_row_count\": df_core.duplicated().sum()\n",
    "}\n",
    "    # Nulls\n",
    "null_counts = df_core.isnull().sum()\n",
    "null_cols = null_counts[null_counts > 0].sort_values(ascending=False)"
   ]
  },
  {
   "cell_type": "markdown",
   "id": "3c99f79b",
   "metadata": {},
   "source": [
    "#### - Shape & Core Cols\n",
    "\n",
    "- Core cols are subset of cols useful for analysis \n",
    "- Overall Counts:\n",
    "    - Source Data Count = 359,435\n",
    "    - Duplicates = 502\n",
    "    - Count after dropping duplicates = 358,933"
   ]
  },
  {
   "cell_type": "code",
   "execution_count": 70,
   "id": "b909fb0a",
   "metadata": {},
   "outputs": [
    {
     "name": "stdout",
     "output_type": "stream",
     "text": [
      "Dataset shape: (359435, 17)\n",
      "17 Core Cols out of 72 total cols in the dataset:\n",
      "['Publication Type', 'Article Title', 'Language', 'Document Type', 'Author Keywords', 'Keywords Plus', 'Abstract', 'Publisher', 'Publisher City', 'Publication Date', 'Publication Year', 'Web of Science Index', 'WoS Categories', 'Research Areas', 'Highly Cited Status', 'Hot Paper Status', 'UT (Unique WOS ID)']\n",
      " Count Summary : {'row_count': 359435, 'web_of_science_record_count': np.int64(359435), 'web_of_science_record_distinct_count': 358933, 'duplicated_row_count': np.int64(502)}\n"
     ]
    }
   ],
   "source": [
    "print(f\"Dataset shape: {df_core.shape}\")\n",
    "print(f\"{len(core_cols)} Core Cols out of {len(cols)} total cols in the dataset:\")\n",
    "print(core_cols)\n",
    "print(f\" Count Summary : {count_summary}\")\n",
    "\n"
   ]
  },
  {
   "cell_type": "code",
   "execution_count": 71,
   "id": "585bf037",
   "metadata": {},
   "outputs": [
    {
     "name": "stdout",
     "output_type": "stream",
     "text": [
      "Dropped 502 duplicated rows. Remaining rows: 358933\n"
     ]
    }
   ],
   "source": [
    "df_core = df_core.drop_duplicates()\n",
    "print(f\"Dropped {count_summary['row_count'] - len(df_core)} duplicated rows. Remaining rows: {len(df_core)}\")"
   ]
  },
  {
   "cell_type": "markdown",
   "id": "f55b7190",
   "metadata": {},
   "source": [
    "#### - Nulls\n",
    "- ~16k records contains no abstract. There are dropped from df_core\n",
    "- Original Row count = 359,435; New Row count: 342,484"
   ]
  },
  {
   "cell_type": "code",
   "execution_count": 72,
   "id": "c2d50178",
   "metadata": {},
   "outputs": [
    {
     "name": "stdout",
     "output_type": "stream",
     "text": [
      " 8 Columns with null values:   Highly Cited Status    357249\n",
      "Hot Paper Status       357249\n",
      "Author Keywords         67226\n",
      "Publication Date        50285\n",
      "Keywords Plus           44687\n",
      "Abstract                16481\n",
      "WoS Categories              8\n",
      "Research Areas              8\n",
      "dtype: int64\n"
     ]
    }
   ],
   "source": [
    "print(f\" {len(null_cols)} Columns with null values:   {null_cols}\" )"
   ]
  },
  {
   "cell_type": "code",
   "execution_count": 73,
   "id": "55841992",
   "metadata": {},
   "outputs": [
    {
     "name": "stdout",
     "output_type": "stream",
     "text": [
      "Dropped 16449 rows. Remaining rows: 342484\n"
     ]
    }
   ],
   "source": [
    "before_count = len(df_core)\n",
    "df_core = df_core.dropna(subset=[\"Abstract\"])\n",
    "after_count = len(df_core)\n",
    "print(f\"Dropped {before_count - after_count} rows. Remaining rows: {after_count}\")"
   ]
  },
  {
   "cell_type": "markdown",
   "id": "d2b119a4",
   "metadata": {},
   "source": [
    "#### - Distinct Value Counts\n",
    "- Nulls: Expected to have nulls in \"Highly Cited\"  and \"Hot Paper\" since it's \"Y or N\" only when applicable. Else null.\n",
    "- Keywords are not always given (Keyword plus , author keyword) - ~15-20% rows\n",
    "- Basic details like title, abstract, categories, researach area have no or 1,2 nulls only"
   ]
  },
  {
   "cell_type": "code",
   "execution_count": 76,
   "id": "6b515363",
   "metadata": {},
   "outputs": [
    {
     "name": "stdout",
     "output_type": "stream",
     "text": [
      "                      distinct   nulls\n",
      "UT (Unique WOS ID)      342484       0\n",
      "Abstract                342344       0\n",
      "Article Title           342241       0\n",
      "Keywords Plus           297609   34066\n",
      "Author Keywords         290384   51581\n",
      "Publisher                 3112       0\n",
      "WoS Categories            2118       2\n",
      "Research Areas            1549       2\n",
      "Publisher City            1411       0\n",
      "Publication Date          1164   40289\n",
      "Publication Year            46       0\n",
      "Web of Science Index        45       0\n",
      "Language                    42       0\n",
      "Document Type               14       0\n",
      "Publication Type             3       0\n",
      "Highly Cited Status          2  340300\n",
      "Hot Paper Status             2  340300\n"
     ]
    }
   ],
   "source": [
    "distinct_counts = df_core.nunique(dropna=True).sort_values(ascending=False)\n",
    "null_counts = df_core.isnull().sum()\n",
    "summary = pd.DataFrame({'distinct': distinct_counts, 'nulls': null_counts[distinct_counts.index]})\n",
    "print(summary)"
   ]
  },
  {
   "cell_type": "markdown",
   "id": "4020ce1a",
   "metadata": {},
   "source": [
    "#### - Language\n",
    "- ~97.7% of publications are in \"English\""
   ]
  },
  {
   "cell_type": "code",
   "execution_count": 78,
   "id": "3a1c481e",
   "metadata": {},
   "outputs": [
    {
     "name": "stdout",
     "output_type": "stream",
     "text": [
      "                    count  percent\n",
      "Language                          \n",
      "English            334702    97.73\n",
      "Spanish              4002     1.17\n",
      "Portuguese           1293     0.38\n",
      "French                961     0.28\n",
      "Russian               534     0.16\n",
      "German                348     0.10\n",
      "Polish                134     0.04\n",
      "Turkish                86     0.03\n",
      "Chinese                77     0.02\n",
      "Italian                69     0.02\n",
      "Croatian               55     0.02\n",
      "Czech                  46     0.01\n",
      "Ukrainian              34     0.01\n",
      "Japanese               22     0.01\n",
      "Korean                 15     0.00\n",
      "Indonesian             13     0.00\n",
      "Malay                  11     0.00\n",
      "Slovak                 10     0.00\n",
      "Hungarian               9     0.00\n",
      "Dutch                   9     0.00\n",
      "Lithuanian              7     0.00\n",
      "Serbian                 6     0.00\n",
      "Unspecified             5     0.00\n",
      "Afrikaans               4     0.00\n",
      "English; Estonian       4     0.00\n",
      "Arabic                  4     0.00\n",
      "Slovenian               3     0.00\n",
      "Slovene                 2     0.00\n",
      "Bulgarian               2     0.00\n",
      "Greek                   2     0.00\n",
      "Finnish                 2     0.00\n",
      "Spanish; English        2     0.00\n",
      "Danish                  2     0.00\n",
      "Chinese; English        1     0.00\n",
      "Catalan                 1     0.00\n",
      "Norwegian               1     0.00\n",
      "English; German         1     0.00\n",
      "Icelandic               1     0.00\n",
      "Welsh                   1     0.00\n",
      "English; English        1     0.00\n",
      "Galician                1     0.00\n",
      "English; Spanish        1     0.00\n"
     ]
    }
   ],
   "source": [
    "lang_counts = df_core['Language'].value_counts(dropna=False)\n",
    "lang_percent = df_core['Language'].value_counts(normalize=True, dropna=False) * 100\n",
    "lang_summary = pd.DataFrame({'count': lang_counts, 'percent': lang_percent.round(2)})\n",
    "print(lang_summary)"
   ]
  },
  {
   "cell_type": "markdown",
   "id": "df9bdb7f",
   "metadata": {},
   "source": [
    "### S2"
   ]
  },
  {
   "cell_type": "code",
   "execution_count": 86,
   "id": "ed3f31e3",
   "metadata": {},
   "outputs": [
    {
     "data": {
      "image/png": "[encoded data removed]",
      "text/plain": [
       "<Figure size 1200x600 with 1 Axes>"
      ]
     },
     "metadata": {},
     "output_type": "display_data"
    }
   ],
   "source": [
    "year_counts = df_core['Publication Year'].value_counts().sort_index()\n",
    "plt.figure(figsize=(12,6))\n",
    "plt.bar(year_counts.index, year_counts.values / 1000)\n",
    "plt.xlabel('Publication Year')\n",
    "plt.ylabel('Count of Records (Thousands)')\n",
    "plt.title('Publication count by year of publication')\n",
    "plt.xticks(year_counts.index, rotation=90)\n",
    "plt.tight_layout()\n",
    "plt.show()"
   ]
  },
  {
   "cell_type": "code",
   "execution_count": 94,
   "id": "6c48edbf",
   "metadata": {},
   "outputs": [
    {
     "data": {
      "text/html": [
       "<div>\n",
       "<style scoped>\n",
       "    .dataframe tbody tr th:only-of-type {\n",
       "        vertical-align: middle;\n",
       "    }\n",
       "\n",
       "    .dataframe tbody tr th {\n",
       "        vertical-align: top;\n",
       "    }\n",
       "\n",
       "    .dataframe thead th {\n",
       "        text-align: right;\n",
       "    }\n",
       "</style>\n",
       "<table border=\"1\" class=\"dataframe\">\n",
       "  <thead>\n",
       "    <tr style=\"text-align: right;\">\n",
       "      <th></th>\n",
       "      <th>Publication Type</th>\n",
       "      <th>Article Title</th>\n",
       "      <th>Language</th>\n",
       "      <th>Document Type</th>\n",
       "      <th>Author Keywords</th>\n",
       "      <th>Keywords Plus</th>\n",
       "      <th>Abstract</th>\n",
       "      <th>Publisher</th>\n",
       "      <th>Publisher City</th>\n",
       "      <th>Publication Date</th>\n",
       "      <th>Publication Year</th>\n",
       "      <th>Web of Science Index</th>\n",
       "      <th>WoS Categories</th>\n",
       "      <th>Research Areas</th>\n",
       "      <th>Highly Cited Status</th>\n",
       "      <th>Hot Paper Status</th>\n",
       "      <th>UT (Unique WOS ID)</th>\n",
       "    </tr>\n",
       "  </thead>\n",
       "  <tbody>\n",
       "    <tr>\n",
       "      <th>4</th>\n",
       "      <td>J</td>\n",
       "      <td>Population effects of white-tailed deer dispersal</td>\n",
       "      <td>English</td>\n",
       "      <td>Article</td>\n",
       "      <td>Chesapeake farms; dispersal; emigration; immig...</td>\n",
       "      <td>NORTHEASTERN MINNESOTA</td>\n",
       "      <td>Dispersal is difficult to measure and is often...</td>\n",
       "      <td>WILDLIFE SOC</td>\n",
       "      <td>BETHESDA</td>\n",
       "      <td>FAL</td>\n",
       "      <td>1999</td>\n",
       "      <td>Science Citation Index Expanded (SCI-EXPANDED)</td>\n",
       "      <td>Biodiversity Conservation</td>\n",
       "      <td>Biodiversity &amp; Conservation</td>\n",
       "      <td>NaN</td>\n",
       "      <td>NaN</td>\n",
       "      <td>WOS:000084173500041</td>\n",
       "    </tr>\n",
       "    <tr>\n",
       "      <th>5</th>\n",
       "      <td>J</td>\n",
       "      <td>Avian cholera mortality in lesser snow geese n...</td>\n",
       "      <td>English</td>\n",
       "      <td>Article</td>\n",
       "      <td>avian cholera; Banks Island; Chen caerulescens...</td>\n",
       "      <td>GOOSE</td>\n",
       "      <td>Avian cholera is one of the most important dis...</td>\n",
       "      <td>WILDLIFE SOC</td>\n",
       "      <td>BETHESDA</td>\n",
       "      <td>FAL</td>\n",
       "      <td>1999</td>\n",
       "      <td>Science Citation Index Expanded (SCI-EXPANDED)</td>\n",
       "      <td>Biodiversity Conservation</td>\n",
       "      <td>Biodiversity &amp; Conservation</td>\n",
       "      <td>NaN</td>\n",
       "      <td>NaN</td>\n",
       "      <td>WOS:000084173500033</td>\n",
       "    </tr>\n",
       "    <tr>\n",
       "      <th>7</th>\n",
       "      <td>J</td>\n",
       "      <td>Reproduction of wood ducks in large and small ...</td>\n",
       "      <td>English</td>\n",
       "      <td>Article</td>\n",
       "      <td>Aix sponsa; cost-benefit; ducklings; dump nest...</td>\n",
       "      <td>BROOD PARASITISM; PLACEMENT</td>\n",
       "      <td>wood dude (Aix sponsa) production may decrease...</td>\n",
       "      <td>WILDLIFE SOC</td>\n",
       "      <td>BETHESDA</td>\n",
       "      <td>SPR</td>\n",
       "      <td>1998</td>\n",
       "      <td>Science Citation Index Expanded (SCI-EXPANDED)</td>\n",
       "      <td>Biodiversity Conservation</td>\n",
       "      <td>Biodiversity &amp; Conservation</td>\n",
       "      <td>NaN</td>\n",
       "      <td>NaN</td>\n",
       "      <td>WOS:000075141500025</td>\n",
       "    </tr>\n",
       "    <tr>\n",
       "      <th>8</th>\n",
       "      <td>J</td>\n",
       "      <td>Accuracy of pregnancy detection by serum prote...</td>\n",
       "      <td>English</td>\n",
       "      <td>Article</td>\n",
       "      <td>elk; pregnancy; PSPB</td>\n",
       "      <td>DEER</td>\n",
       "      <td>Blood sera from 225 Rocky Mountain elk (Cervus...</td>\n",
       "      <td>WILDLIFE SOC</td>\n",
       "      <td>BETHESDA</td>\n",
       "      <td>FAL</td>\n",
       "      <td>1997</td>\n",
       "      <td>Science Citation Index Expanded (SCI-EXPANDED)</td>\n",
       "      <td>Biodiversity Conservation</td>\n",
       "      <td>Biodiversity &amp; Conservation</td>\n",
       "      <td>NaN</td>\n",
       "      <td>NaN</td>\n",
       "      <td>WOS:A1997YH63300023</td>\n",
       "    </tr>\n",
       "    <tr>\n",
       "      <th>12</th>\n",
       "      <td>J</td>\n",
       "      <td>Effects of logging roads on depredation of art...</td>\n",
       "      <td>English</td>\n",
       "      <td>Article</td>\n",
       "      <td>artificial nest; bird; clearcutting; forest; l...</td>\n",
       "      <td>SPRUCE GROUSE; HABITAT; PREDATION; DYNAMICS; S...</td>\n",
       "      <td>We examined depredation of artificial ground n...</td>\n",
       "      <td>WILDLIFE SOC</td>\n",
       "      <td>BETHESDA</td>\n",
       "      <td>SPR</td>\n",
       "      <td>1997</td>\n",
       "      <td>Science Citation Index Expanded (SCI-EXPANDED)</td>\n",
       "      <td>Biodiversity Conservation</td>\n",
       "      <td>Biodiversity &amp; Conservation</td>\n",
       "      <td>NaN</td>\n",
       "      <td>NaN</td>\n",
       "      <td>WOS:A1997XA82200028</td>\n",
       "    </tr>\n",
       "  </tbody>\n",
       "</table>\n",
       "</div>"
      ],
      "text/plain": [
       "   Publication Type                                      Article Title  \\\n",
       "4                 J  Population effects of white-tailed deer dispersal   \n",
       "5                 J  Avian cholera mortality in lesser snow geese n...   \n",
       "7                 J  Reproduction of wood ducks in large and small ...   \n",
       "8                 J  Accuracy of pregnancy detection by serum prote...   \n",
       "12                J  Effects of logging roads on depredation of art...   \n",
       "\n",
       "   Language Document Type                                    Author Keywords  \\\n",
       "4   English       Article  Chesapeake farms; dispersal; emigration; immig...   \n",
       "5   English       Article  avian cholera; Banks Island; Chen caerulescens...   \n",
       "7   English       Article  Aix sponsa; cost-benefit; ducklings; dump nest...   \n",
       "8   English       Article                               elk; pregnancy; PSPB   \n",
       "12  English       Article  artificial nest; bird; clearcutting; forest; l...   \n",
       "\n",
       "                                        Keywords Plus  \\\n",
       "4                              NORTHEASTERN MINNESOTA   \n",
       "5                                               GOOSE   \n",
       "7                         BROOD PARASITISM; PLACEMENT   \n",
       "8                                                DEER   \n",
       "12  SPRUCE GROUSE; HABITAT; PREDATION; DYNAMICS; S...   \n",
       "\n",
       "                                             Abstract     Publisher  \\\n",
       "4   Dispersal is difficult to measure and is often...  WILDLIFE SOC   \n",
       "5   Avian cholera is one of the most important dis...  WILDLIFE SOC   \n",
       "7   wood dude (Aix sponsa) production may decrease...  WILDLIFE SOC   \n",
       "8   Blood sera from 225 Rocky Mountain elk (Cervus...  WILDLIFE SOC   \n",
       "12  We examined depredation of artificial ground n...  WILDLIFE SOC   \n",
       "\n",
       "   Publisher City Publication Date  Publication Year  \\\n",
       "4        BETHESDA              FAL              1999   \n",
       "5        BETHESDA              FAL              1999   \n",
       "7        BETHESDA              SPR              1998   \n",
       "8        BETHESDA              FAL              1997   \n",
       "12       BETHESDA              SPR              1997   \n",
       "\n",
       "                              Web of Science Index             WoS Categories  \\\n",
       "4   Science Citation Index Expanded (SCI-EXPANDED)  Biodiversity Conservation   \n",
       "5   Science Citation Index Expanded (SCI-EXPANDED)  Biodiversity Conservation   \n",
       "7   Science Citation Index Expanded (SCI-EXPANDED)  Biodiversity Conservation   \n",
       "8   Science Citation Index Expanded (SCI-EXPANDED)  Biodiversity Conservation   \n",
       "12  Science Citation Index Expanded (SCI-EXPANDED)  Biodiversity Conservation   \n",
       "\n",
       "                 Research Areas Highly Cited Status Hot Paper Status  \\\n",
       "4   Biodiversity & Conservation                 NaN              NaN   \n",
       "5   Biodiversity & Conservation                 NaN              NaN   \n",
       "7   Biodiversity & Conservation                 NaN              NaN   \n",
       "8   Biodiversity & Conservation                 NaN              NaN   \n",
       "12  Biodiversity & Conservation                 NaN              NaN   \n",
       "\n",
       "     UT (Unique WOS ID)  \n",
       "4   WOS:000084173500041  \n",
       "5   WOS:000084173500033  \n",
       "7   WOS:000075141500025  \n",
       "8   WOS:A1997YH63300023  \n",
       "12  WOS:A1997XA82200028  "
      ]
     },
     "execution_count": 94,
     "metadata": {},
     "output_type": "execute_result"
    }
   ],
   "source": [
    "df_core.head()"
   ]
  },
  {
   "cell_type": "code",
   "execution_count": null,
   "id": "72ebed8b",
   "metadata": {},
   "outputs": [],
   "source": []
  },
  {
   "cell_type": "code",
   "execution_count": null,
   "id": "28bbba59",
   "metadata": {},
   "outputs": [],
   "source": []
  }
 ],
 "metadata": {
  "kernelspec": {
   "display_name": "venv",
   "language": "python",
   "name": "python3"
  },
  "language_info": {
   "codemirror_mode": {
    "name": "ipython",
    "version": 3
   },
   "file_extension": ".py",
   "mimetype": "text/x-python",
   "name": "python",
   "nbconvert_exporter": "python",
   "pygments_lexer": "ipython3",
   "version": "3.13.3"
  }
 },
 "nbformat": 4,
 "nbformat_minor": 5
}
